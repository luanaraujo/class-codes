{
  "nbformat": 4,
  "nbformat_minor": 0,
  "metadata": {
    "colab": {
      "name": "lab07_Luan_Araujo.ipynb",
      "provenance": [],
      "authorship_tag": "ABX9TyPSnb5w1TJg+Egh07fTnm19",
      "include_colab_link": true
    },
    "kernelspec": {
      "name": "python3",
      "display_name": "Python 3"
    },
    "language_info": {
      "name": "python"
    }
  },
  "cells": [
    {
      "cell_type": "markdown",
      "metadata": {
        "id": "view-in-github",
        "colab_type": "text"
      },
      "source": [
        "<a href=\"https://colab.research.google.com/github/luanaraujo/class-codes/blob/master/lab07_Luan_Araujo.ipynb\" target=\"_parent\"><img src=\"https://colab.research.google.com/assets/colab-badge.svg\" alt=\"Open In Colab\"/></a>"
      ]
    },
    {
      "cell_type": "code",
      "metadata": {
        "id": "e6RisfhrQ1Q_"
      },
      "source": [
        "import numpy as np\n",
        "import matplotlib.pyplot as plt\n",
        "from PIL import Image\n",
        "from matplotlib.patches import Polygon\n",
        "from skimage.draw import polygon_perimeter"
      ],
      "execution_count": 5,
      "outputs": []
    },
    {
      "cell_type": "code",
      "metadata": {
        "colab": {
          "base_uri": "https://localhost:8080/",
          "height": 520
        },
        "id": "Lkvu3vasRLpS",
        "outputId": "e1ab0388-f8cd-47a8-bbbc-d8b418a2ffe4"
      },
      "source": [
        "fundo = np.ones((512, 512, 3)) * 0\n",
        "\n",
        "plt.figure(figsize=(16,9))\n",
        "plt.axis('off')\n",
        "plt.imshow(fundo)\n",
        "plt.show()"
      ],
      "execution_count": 6,
      "outputs": [
        {
          "output_type": "display_data",
          "data": {
            "image/png": "[encoded data removed]",
            "text/plain": [
              "<Figure size 1152x648 with 1 Axes>"
            ]
          },
          "metadata": {
            "tags": [],
            "needs_background": "light"
          }
        }
      ]
    },
    {
      "cell_type": "code",
      "metadata": {
        "colab": {
          "base_uri": "https://localhost:8080/",
          "height": 558
        },
        "id": "nrMFHbkCRvFy",
        "outputId": "43c052fc-89a1-4dd0-9149-a6178e33d94c"
      },
      "source": [
        "for x in range(512):\n",
        "  for y in range(512):\n",
        "    if (y - 100)**2 + (x - 100)**2 < 70**2:\n",
        "      fundo[x, y, :] = [0, 0, 0]\n",
        "\n",
        "for x in range(512):\n",
        "  for y in range(512):\n",
        "    if (y - 150)**2 + (x - 100)**2 < 70**2:\n",
        "      fundo[x, y, :] = [0, 0, 0]\n",
        "\n",
        "for _ in range (2):\n",
        "  x2, y2 = polygon_perimeter([150, 150, 90, 150], [250, 250, 300, 350])\n",
        "  x3, y3 = polygon_perimeter([110, 110, 170, 110], [250, 350, 300, 250])\n",
        "\n",
        "fundo[x2, y2] = 1\n",
        "fundo[x2, y2] = [255, 255, 0]\n",
        "fundo[x3, y3] = 1\n",
        "fundo[x3, y3] = [255, 255, 0]\n",
        "\n",
        "plt.figure(figsize=(16,9))\n",
        "#plt.axis('off')\n",
        "plt.imshow(fundo)\n",
        "plt.show()"
      ],
      "execution_count": 7,
      "outputs": [
        {
          "output_type": "stream",
          "text": [
            "Clipping input data to the valid range for imshow with RGB data ([0..1] for floats or [0..255] for integers).\n"
          ],
          "name": "stderr"
        },
        {
          "output_type": "display_data",
          "data": {
            "image/png": "[encoded data removed]",
            "text/plain": [
              "<Figure size 1152x648 with 1 Axes>"
            ]
          },
          "metadata": {
            "tags": [],
            "needs_background": "light"
          }
        }
      ]
    }
  ]
}